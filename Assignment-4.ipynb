{
 "cells": [
  {
   "cell_type": "code",
   "execution_count": 2,
   "id": "48f819db",
   "metadata": {},
   "outputs": [
    {
     "name": "stdout",
     "output_type": "stream",
     "text": [
      "35\n"
     ]
    }
   ],
   "source": [
    "# Write a Python program to create a lambda function that adds 25 to a given number passed in as an argument.\n",
    "# sample input: 10\n",
    "# sample output: 35\n",
    "# Solution:\n",
    "\n",
    "r = lambda a : a+25\n",
    "print(r(10))"
   ]
  },
  {
   "cell_type": "code",
   "execution_count": 6,
   "id": "f8de77ad",
   "metadata": {},
   "outputs": [
    {
     "name": "stdout",
     "output_type": "stream",
     "text": [
      "Original list: (1, 2, 3, 4, 5, 6, 7)\n",
      "Triple of said list numbers: \n",
      "[3, 6, 9, 12, 15, 18, 21]\n"
     ]
    }
   ],
   "source": [
    "# Write a Python program to triple all numbers of a given list of integers. Use Python map.\n",
    "# sample list: [1, 2, 3, 4, 5, 6, 7]\n",
    "# Triple of list numbers:\n",
    "# [3, 6, 9, 12, 15, 18, 21]\n",
    "# Solution:\n",
    "\n",
    "num = (1,2,3,4,5,6,7)\n",
    "print(\"Original list:\",num)\n",
    "result = map(lambda x: x+x+x,num)\n",
    "print(\"Triple of said list numbers: \")\n",
    "print(list(result))"
   ]
  },
  {
   "cell_type": "code",
   "execution_count": 7,
   "id": "b623cdd1",
   "metadata": {},
   "outputs": [
    {
     "name": "stdout",
     "output_type": "stream",
     "text": [
      "Original list: [4, 5, 2, 9]\n",
      "Square the elements of the said list using map():\n",
      "[16, 25, 4, 81]\n"
     ]
    }
   ],
   "source": [
    "# Write a Python program to square the elements of a list using map() function.\n",
    "# Sample List: [4, 5, 2, 9]\n",
    "# Square the elements of the list:\n",
    "# [16, 25, 4, 81]\n",
    "# Solution\n",
    "def square_num(n):\n",
    "    return n*n\n",
    "num = [4,5,2,9]\n",
    "print(\"Original list:\",num)\n",
    "result = map(square_num,num)\n",
    "print(\"Square the elements of the said list using map():\")\n",
    "print(list(result))"
   ]
  },
  {
   "cell_type": "code",
   "execution_count": null,
   "id": "665057cc",
   "metadata": {},
   "outputs": [],
   "source": []
  }
 ],
 "metadata": {
  "kernelspec": {
   "display_name": "Python 3 (ipykernel)",
   "language": "python",
   "name": "python3"
  },
  "language_info": {
   "codemirror_mode": {
    "name": "ipython",
    "version": 3
   },
   "file_extension": ".py",
   "mimetype": "text/x-python",
   "name": "python",
   "nbconvert_exporter": "python",
   "pygments_lexer": "ipython3",
   "version": "3.11.4"
  }
 },
 "nbformat": 4,
 "nbformat_minor": 5
}
